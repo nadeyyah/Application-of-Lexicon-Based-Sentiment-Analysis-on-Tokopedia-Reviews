{
 "cells": [
  {
   "cell_type": "markdown",
   "id": "fcb87aae",
   "metadata": {},
   "source": [
    "# Install and Import Library"
   ]
  },
  {
   "cell_type": "code",
   "execution_count": 1,
   "id": "b3474396",
   "metadata": {},
   "outputs": [],
   "source": [
    "import pandas as pd\n",
    "from google_play_scraper import reviews, Sort"
   ]
  },
  {
   "cell_type": "markdown",
   "id": "0492c9b7",
   "metadata": {},
   "source": [
    "# Scraping Sentimen Tokopedia"
   ]
  },
  {
   "cell_type": "code",
   "execution_count": 3,
   "id": "b3a9f467",
   "metadata": {},
   "outputs": [
    {
     "name": "stdout",
     "output_type": "stream",
     "text": [
      "Data Telah Berhasil Disimpan dengan 20000 reviews.\n"
     ]
    }
   ],
   "source": [
    "def scraping():\n",
    "    app_reviews, _ = reviews(\n",
    "        'com.tokopedia.tkpd',  \n",
    "        lang='id',             \n",
    "        country='id',         \n",
    "        count=20000,           \n",
    "        sort=Sort.NEWEST     \n",
    "    )\n",
    "    # Konversi ke DataFrame\n",
    "    df = pd.DataFrame(app_reviews)\n",
    "    df = df[['content', 'score']].rename(columns={'content': 'text'})\n",
    "    # Simpan ke file CSV\n",
    "    df.to_csv('tokopedia_app_reviews.csv', index=False)\n",
    "    \n",
    "    # Hitung jumlah ulasan\n",
    "    total_reviews = len(df)\n",
    "    print(f\"Data Telah Berhasil Disimpan dengan {total_reviews} reviews.\")\n",
    "\n",
    "# Jalankan fungsi scraping\n",
    "scraping()\n"
   ]
  }
 ],
 "metadata": {
  "kernelspec": {
   "display_name": "Python 3",
   "language": "python",
   "name": "python3"
  },
  "language_info": {
   "codemirror_mode": {
    "name": "ipython",
    "version": 3
   },
   "file_extension": ".py",
   "mimetype": "text/x-python",
   "name": "python",
   "nbconvert_exporter": "python",
   "pygments_lexer": "ipython3",
   "version": "3.12.1"
  }
 },
 "nbformat": 4,
 "nbformat_minor": 5
}
